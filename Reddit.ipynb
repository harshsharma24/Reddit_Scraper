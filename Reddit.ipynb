{
  "nbformat": 4,
  "nbformat_minor": 0,
  "metadata": {
    "colab": {
      "provenance": []
    },
    "kernelspec": {
      "name": "python3",
      "display_name": "Python 3"
    },
    "language_info": {
      "name": "python"
    }
  },
  "cells": [
    {
      "cell_type": "code",
      "execution_count": 2,
      "metadata": {
        "colab": {
          "base_uri": "https://localhost:8080/"
        },
        "id": "sHDToY66rrPO",
        "outputId": "174147c5-f937-4f22-b07d-d8f3ddaede5e"
      },
      "outputs": [
        {
          "output_type": "stream",
          "name": "stdout",
          "text": [
            "Collecting praw\n",
            "  Downloading praw-7.8.1-py3-none-any.whl.metadata (9.4 kB)\n",
            "Collecting prawcore<3,>=2.4 (from praw)\n",
            "  Downloading prawcore-2.4.0-py3-none-any.whl.metadata (5.0 kB)\n",
            "Collecting update_checker>=0.18 (from praw)\n",
            "  Downloading update_checker-0.18.0-py3-none-any.whl.metadata (2.3 kB)\n",
            "Requirement already satisfied: websocket-client>=0.54.0 in /usr/local/lib/python3.10/dist-packages (from praw) (1.8.0)\n",
            "Requirement already satisfied: requests<3.0,>=2.6.0 in /usr/local/lib/python3.10/dist-packages (from prawcore<3,>=2.4->praw) (2.32.3)\n",
            "Requirement already satisfied: charset-normalizer<4,>=2 in /usr/local/lib/python3.10/dist-packages (from requests<3.0,>=2.6.0->prawcore<3,>=2.4->praw) (3.4.0)\n",
            "Requirement already satisfied: idna<4,>=2.5 in /usr/local/lib/python3.10/dist-packages (from requests<3.0,>=2.6.0->prawcore<3,>=2.4->praw) (3.10)\n",
            "Requirement already satisfied: urllib3<3,>=1.21.1 in /usr/local/lib/python3.10/dist-packages (from requests<3.0,>=2.6.0->prawcore<3,>=2.4->praw) (2.2.3)\n",
            "Requirement already satisfied: certifi>=2017.4.17 in /usr/local/lib/python3.10/dist-packages (from requests<3.0,>=2.6.0->prawcore<3,>=2.4->praw) (2024.8.30)\n",
            "Downloading praw-7.8.1-py3-none-any.whl (189 kB)\n",
            "\u001b[2K   \u001b[90m━━━━━━━━━━━━━━━━━━━━━━━━━━━━━━━━━━━━━━━━\u001b[0m \u001b[32m189.3/189.3 kB\u001b[0m \u001b[31m2.6 MB/s\u001b[0m eta \u001b[36m0:00:00\u001b[0m\n",
            "\u001b[?25hDownloading prawcore-2.4.0-py3-none-any.whl (17 kB)\n",
            "Downloading update_checker-0.18.0-py3-none-any.whl (7.0 kB)\n",
            "Installing collected packages: update_checker, prawcore, praw\n",
            "Successfully installed praw-7.8.1 prawcore-2.4.0 update_checker-0.18.0\n"
          ]
        }
      ],
      "source": [
        "pip install praw"
      ]
    },
    {
      "cell_type": "code",
      "source": [
        "import praw\n",
        "import csv\n",
        "\n",
        "# Setting up Reddit credentials\n",
        "reddit = praw.Reddit(\n",
        "    client_id='fhkYWPMndRZCzICB7U54AQ',  # Your client ID\n",
        "    client_secret='OSja_7O4OCynDVKY6zYh7wE_AK_m7A',  # Your client secret\n",
        "    user_agent='scrapeScript by /u/Complex-Artichoke592',  # Your user agent\n",
        "    username='Complex-Artichoke592',\n",
        "    password='Harsh@123'\n",
        ")\n",
        "\n",
        "# Access the Memes_Of_The_Dank subreddit\n",
        "subreddit = reddit.subreddit('Memes_Of_The_Dank')\n",
        "\n",
        "# Open a CSV file for writing\n",
        "with open('Meme_data.csv', mode='w', newline='', encoding='utf-8') as file:\n",
        "    writer = csv.writer(file)\n",
        "\n",
        "    # Write the header row with additional description\n",
        "    writer.writerow(['Title', 'Score', 'ID', 'URL', 'Text', 'Subreddit', 'Post Type'])\n",
        "\n",
        "    # Search for posts with 'Trump'\n",
        "    for submission in subreddit.search('Trump', limit=10):  # Limit to 10 results for now\n",
        "        # Determine post type\n",
        "        post_type = 'Self-post' if submission.is_self else 'Link/Media'\n",
        "\n",
        "        # Write each submission's details to the CSV\n",
        "        writer.writerow([\n",
        "            submission.title,       # Title of the post\n",
        "            submission.score,       # Score of the post\n",
        "            submission.id,          # Unique ID of the post\n",
        "            submission.url,         # URL of the post\n",
        "            submission.selftext,    # Text content of the post (description for self-posts)\n",
        "            submission.subreddit,   # Subreddit name\n",
        "            post_type               # Type of the post (self-post or link/media)\n",
        "        ])\n",
        "\n",
        "print(\"Data has been written to 'Meme_data.csv'\")\n"
      ],
      "metadata": {
        "colab": {
          "base_uri": "https://localhost:8080/"
        },
        "id": "rbLkuvhbrsWc",
        "outputId": "d3127397-e898-4cb9-f5b0-b72168bf4abf"
      },
      "execution_count": 4,
      "outputs": [
        {
          "output_type": "stream",
          "name": "stderr",
          "text": [
            "WARNING:praw:It appears that you are using PRAW in an asynchronous environment.\n",
            "It is strongly recommended to use Async PRAW: https://asyncpraw.readthedocs.io.\n",
            "See https://praw.readthedocs.io/en/latest/getting_started/multiple_instances.html#discord-bots-and-asynchronous-environments for more info.\n",
            "\n"
          ]
        },
        {
          "output_type": "stream",
          "name": "stdout",
          "text": [
            "Data has been written to 'Meme_data.csv'\n"
          ]
        }
      ]
    },
    {
      "cell_type": "code",
      "source": [],
      "metadata": {
        "colab": {
          "base_uri": "https://localhost:8080/"
        },
        "id": "bj1N7M957an8",
        "outputId": "b6a950b1-1926-4b10-8223-f6916d02c476"
      },
      "execution_count": null,
      "outputs": [
        {
          "output_type": "stream",
          "name": "stdout",
          "text": [
            "Clustering Coefficient for each node: {'A': 0.0, 'B': 0.0, 'C': 0.0, 'D': 0.0, 'E': 0.0, 'F': 0.0, 'G': 0.0, 'H': 0.0, 'I': 0.0, 'J': 0.0, 'K': 0.0, 'L': 0.0, 'M': 0.0, 'N': 0.0, 'O': 0.0, 'P': 0.0}\n",
            "Average Clustering Coefficient of the network: 0.0\n"
          ]
        }
      ]
    },
    {
      "cell_type": "code",
      "source": [
        "import networkx as nx\n",
        "\n",
        "# Create nodes and define edges\n",
        "G = nx.Graph()\n",
        "nodes = [\"A\", \"B\", \"C\", \"D\", \"E\", \"F\", \"G\", \"H\", \"I\", \"J\", \"K\", \"L\", \"M\", \"N\", \"O\", \"P\"]\n",
        "edges = [\n",
        "    (\"A\", \"B\"), (\"A\", \"E\"), (\"A\", \"G\"),\n",
        "    (\"B\", \"C\"), (\"B\", \"F\"),\n",
        "    (\"C\", \"D\"), (\"C\", \"G\"),\n",
        "    (\"D\", \"K\"), (\"D\", \"H\"),\n",
        "    (\"E\", \"F\"), (\"E\", \"I\"),\n",
        "    (\"F\", \"G\"), (\"F\", \"J\"), (\"F\", \"M\"),\n",
        "    (\"G\", \"H\"), (\"G\", \"K\"),\n",
        "    (\"H\", \"L\"),\n",
        "    (\"I\", \"J\"), (\"I\", \"M\"),\n",
        "    (\"J\", \"K\"), (\"J\", \"N\"), (\"J\", \"P\"),\n",
        "    (\"K\", \"L\"), (\"K\", \"O\"),\n",
        "    (\"L\", \"P\"),\n",
        "    (\"M\", \"N\"),\n",
        "    (\"N\", \"O\"),\n",
        "    (\"O\", \"P\")\n",
        "]\n",
        "\n",
        "# Add nodes and edges to the graph\n",
        "G.add_nodes_from(nodes)\n",
        "G.add_edges_from(edges)\n",
        "\n",
        "# Calculate the clustering coefficient of the entire network\n",
        "clustering_coefficient_network = nx.average_clustering(G)\n",
        "\n",
        "# Calculate and print each node's clustering coefficient\n",
        "clustering_coefficients = nx.clustering(G)\n",
        "for node, coeff in clustering_coefficients.items():\n",
        "    print(f\"Clustering Coefficient of node {node}: {coeff}\")\n",
        "\n",
        "# Display the result for the entire network\n",
        "print(\"\\nClustering Coefficient of the entire network:\", clustering_coefficient_network)\n"
      ],
      "metadata": {
        "colab": {
          "base_uri": "https://localhost:8080/"
        },
        "id": "IsFbSpU91b--",
        "outputId": "c25da42b-b3f1-460c-e278-4b3694d6a4f9"
      },
      "execution_count": null,
      "outputs": [
        {
          "output_type": "stream",
          "name": "stdout",
          "text": [
            "Clustering Coefficient of node A: 0\n",
            "Clustering Coefficient of node B: 0\n",
            "Clustering Coefficient of node C: 0\n",
            "Clustering Coefficient of node D: 0\n",
            "Clustering Coefficient of node E: 0\n",
            "Clustering Coefficient of node F: 0\n",
            "Clustering Coefficient of node G: 0\n",
            "Clustering Coefficient of node H: 0\n",
            "Clustering Coefficient of node I: 0\n",
            "Clustering Coefficient of node J: 0\n",
            "Clustering Coefficient of node K: 0\n",
            "Clustering Coefficient of node L: 0\n",
            "Clustering Coefficient of node M: 0\n",
            "Clustering Coefficient of node N: 0\n",
            "Clustering Coefficient of node O: 0\n",
            "Clustering Coefficient of node P: 0\n",
            "\n",
            "Clustering Coefficient of the entire network: 0.0\n"
          ]
        }
      ]
    },
    {
      "cell_type": "code",
      "source": [
        "import networkx as nx\n",
        "import itertools\n",
        "\n",
        "# Create the original graph with nodes and edges\n",
        "G = nx.Graph()\n",
        "nodes = [\"A\", \"B\", \"C\", \"D\", \"E\", \"F\", \"G\", \"H\", \"I\", \"J\", \"K\", \"L\", \"M\", \"N\", \"O\", \"P\"]\n",
        "edges = [\n",
        "    (\"A\", \"B\"), (\"A\", \"E\"), (\"A\", \"G\"), (\"A\", \"F\"),\n",
        "    (\"B\", \"C\"), (\"B\", \"F\"),\n",
        "    (\"C\", \"D\"), (\"C\", \"G\"),\n",
        "    (\"D\", \"K\"), (\"D\", \"H\"),\n",
        "    (\"E\", \"F\"), (\"E\", \"I\"),\n",
        "    (\"F\", \"G\"), (\"F\", \"J\"), (\"F\", \"M\"),\n",
        "    (\"G\", \"H\"), (\"G\", \"K\"),\n",
        "    (\"H\", \"L\"),\n",
        "    (\"I\", \"J\"), (\"I\", \"M\"),\n",
        "    (\"J\", \"K\"), (\"J\", \"N\"), (\"J\", \"P\"),\n",
        "    (\"K\", \"L\"), (\"K\", \"O\"),\n",
        "    (\"L\", \"P\"),\n",
        "    (\"M\", \"N\"),\n",
        "    (\"N\", \"O\"),\n",
        "    (\"O\", \"P\")\n",
        "]\n",
        "\n",
        "# Add nodes and edges to the graph\n",
        "G.add_nodes_from(nodes)\n",
        "G.add_edges_from(edges)\n",
        "\n",
        "# Calculate initial clustering coefficient of the entire network\n",
        "initial_clustering_coefficient = nx.average_clustering(G)\n",
        "print(\"Initial Clustering Coefficient of the network:\", initial_clustering_coefficient)\n",
        "\n",
        "# Step 1: Find all possible pairs of nodes that are not currently connected\n",
        "possible_edges = [\n",
        "    (u, v) for u, v in itertools.combinations(G.nodes, 2) if not G.has_edge(u, v)\n",
        "]\n",
        "\n",
        "# Step 2: Find the best edge to add to maximize clustering coefficient\n",
        "best_edge = None\n",
        "highest_clustering_coefficient = initial_clustering_coefficient\n",
        "\n",
        "for u, v in possible_edges:\n",
        "    # Temporarily add the edge\n",
        "    G.add_edge(u, v)\n",
        "\n",
        "    # Calculate the new clustering coefficient\n",
        "    new_clustering_coefficient = nx.average_clustering(G)\n",
        "\n",
        "    # Check if this is the highest clustering coefficient found\n",
        "    if new_clustering_coefficient > highest_clustering_coefficient:\n",
        "        highest_clustering_coefficient = new_clustering_coefficient\n",
        "        best_edge = (u, v)\n",
        "\n",
        "    # Remove the edge to restore the original graph\n",
        "    G.remove_edge(u, v)\n",
        "\n",
        "# Output the best edge and the new clustering coefficient\n",
        "print(\"Best edge to add:\", best_edge)\n",
        "print(\"New Clustering Coefficient of the network after adding the best edge:\", highest_clustering_coefficient)\n"
      ],
      "metadata": {
        "colab": {
          "base_uri": "https://localhost:8080/"
        },
        "id": "HOJexzHqPxy2",
        "outputId": "fb07e41e-d895-4e44-9565-9c63114e5691"
      },
      "execution_count": null,
      "outputs": [
        {
          "output_type": "stream",
          "name": "stdout",
          "text": [
            "Initial Clustering Coefficient of the network: 0.09166666666666666\n",
            "Best edge to add: ('J', 'O')\n",
            "New Clustering Coefficient of the network after adding the best edge: 0.18333333333333335\n"
          ]
        }
      ]
    },
    {
      "cell_type": "code",
      "source": [
        "import networkx as nx\n",
        "\n",
        "# Define the nodes and edges as provided\n",
        "nodes = [\"A\", \"B\", \"C\", \"D\", \"E\", \"F\", \"G\", \"H\", \"I\", \"J\", \"K\", \"L\", \"M\", \"N\", \"O\", \"P\"]\n",
        "edges = [\n",
        "    (\"A\", \"B\"), (\"A\", \"E\"), (\"A\", \"G\"), (\"A\", \"F\"),\n",
        "    (\"B\", \"C\"), (\"B\", \"F\"),\n",
        "    (\"C\", \"D\"), (\"C\", \"G\"),\n",
        "    (\"D\", \"K\"), (\"D\", \"H\"),\n",
        "    (\"E\", \"F\"), (\"E\", \"I\"),\n",
        "    (\"F\", \"G\"), (\"F\", \"J\"), (\"F\", \"M\"),\n",
        "    (\"G\", \"H\"), (\"G\", \"K\"),\n",
        "    (\"H\", \"L\"),\n",
        "    (\"I\", \"J\"), (\"I\", \"M\"),\n",
        "    (\"J\", \"K\"), (\"J\", \"N\"), (\"J\", \"P\"),\n",
        "    (\"K\", \"L\"), (\"K\", \"O\"),\n",
        "    (\"L\", \"P\"),\n",
        "    (\"M\", \"N\"),\n",
        "    (\"N\", \"O\"),\n",
        "    (\"O\", \"P\")\n",
        "]\n",
        "\n",
        "# Step 1: Create the graph\n",
        "G = nx.Graph()\n",
        "G.add_nodes_from(nodes)\n",
        "G.add_edges_from(edges)\n",
        "\n",
        "# Step 2: Calculate the clustering coefficient for a specific node, e.g., \"A\"\n",
        "clustering_coefficient_A = nx.clustering(G, \"A\")\n",
        "print(\"Clustering coefficient for node A:\", clustering_coefficient_A)\n",
        "\n",
        "# Step 3: Calculate the average clustering coefficient for the entire network\n",
        "average_clustering_coefficient = nx.average_clustering(G)\n",
        "print(\"Average clustering coefficient of the network:\", average_clustering_coefficient)\n"
      ],
      "metadata": {
        "colab": {
          "base_uri": "https://localhost:8080/"
        },
        "id": "cNK3-GtC8sH5",
        "outputId": "07f84c6d-4480-4c09-c7b7-d76fdc5f368e"
      },
      "execution_count": null,
      "outputs": [
        {
          "output_type": "stream",
          "name": "stdout",
          "text": [
            "Clustering coefficient for node A: 0.5\n",
            "Average clustering coefficient of the network: 0.09166666666666666\n"
          ]
        }
      ]
    },
    {
      "cell_type": "code",
      "source": [
        "import pandas as pd\n",
        "from sklearn.cluster import KMeans\n",
        "from sklearn.preprocessing import StandardScaler\n",
        "import matplotlib.pyplot as plt\n",
        "\n",
        "# Sample data: Name, Address, Age\n",
        "data = {\n",
        "    'Name': ['Alice', 'Bob', 'Charlie', 'David', 'Eve'],\n",
        "    'Address': ['12345', '12346', '12345', '12347', '12346'],  # Zip codes\n",
        "    'Age': [25, 34, 22, 45, 36]\n",
        "}\n",
        "df = pd.DataFrame(data)\n",
        "\n",
        "# Add new customers to the DataFrame\n",
        "new_customers = pd.DataFrame({\n",
        "    'Name': ['Francis', 'Gina', 'Harry'],\n",
        "    'Address': ['12348', '12345', '12347'],\n",
        "    'Age': [30, 27, 40]\n",
        "})\n",
        "df = pd.concat([df, new_customers], ignore_index=True)\n",
        "\n",
        "# Preprocessing\n",
        "df['Address'] = df['Address'].astype(int)\n",
        "X = df[['Address', 'Age']]\n",
        "scaler = StandardScaler()\n",
        "X_scaled = scaler.fit_transform(X)\n",
        "\n",
        "# Clustering\n",
        "kmeans = KMeans(n_clusters=2, random_state=0)\n",
        "df['Cluster'] = kmeans.fit_predict(X_scaled)\n",
        "\n",
        "# Generate a graph\n",
        "plt.figure(figsize=(8, 6))\n",
        "plt.scatter(df['Address'], df['Age'], c=df['Cluster'], cmap='viridis')\n",
        "for i, row in df.iterrows():\n",
        "    plt.annotate(row['Name'], (row['Address'], row['Age']), textcoords=\"offset points\", xytext=(0, 5), ha='center')\n",
        "plt.xlabel('Address (Zip Code)')\n",
        "plt.ylabel('Age')\n",
        "plt.title('Customer Clusters')\n",
        "plt.show()"
      ],
      "metadata": {
        "colab": {
          "base_uri": "https://localhost:8080/",
          "height": 564
        },
        "id": "MHQtKHbJJzFZ",
        "outputId": "27564fa0-0a12-46c2-f086-d7067003f144"
      },
      "execution_count": null,
      "outputs": [
        {
          "output_type": "display_data",
          "data": {
            "text/plain": [
              "<Figure size 800x600 with 1 Axes>"
            ],
            "image/png": "[encoded data removed]"
          },
          "metadata": {}
        }
      ]
    },
    {
      "cell_type": "code",
      "source": [],
      "metadata": {
        "id": "5kG9xycVsfZJ",
        "colab": {
          "base_uri": "https://localhost:8080/"
        },
        "outputId": "f15a1a68-53cc-44f9-e4c8-82b31b4b0aa6"
      },
      "execution_count": null,
      "outputs": [
        {
          "output_type": "stream",
          "name": "stdout",
          "text": [
            "Object `where` not found.\n"
          ]
        }
      ]
    }
  ]
}